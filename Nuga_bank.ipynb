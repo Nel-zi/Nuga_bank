{
 "cells": [
  {
   "cell_type": "code",
   "execution_count": 1,
   "metadata": {},
   "outputs": [],
   "source": [
    "# Import necessary dependencies\n",
    "import pyspark\n",
    "from pyspark.sql import SparkSession\n",
    "from pyspark.sql.functions import monotonically_increasing_id\n",
    "import pandas as pd\n",
    "from sqlalchemy import create_engine\n",
    "from dotenv import load_dotenv\n",
    "import os\n",
    "import time"
   ]
  },
  {
   "cell_type": "code",
   "execution_count": 2,
   "metadata": {},
   "outputs": [],
   "source": [
    "# Initialise our spark session\n",
    "spark = SparkSession.builder.appName('NugaBankETL').getOrCreate()\n",
    "\n",
    "\n",
    "\n",
    "\n",
    "# spark = SparkSession.builder \\\n",
    "#     .appName('NugaBankETL') \\\n",
    "#     .config(\"spark.driver.memory\", \"8g\") \\\n",
    "#     .config(\"spark.ui.port\", \"4041\") \\\n",
    "#     .master(\"local[*]\") \\\n",
    "#     .getOrCreate()\n",
    "\n",
    "\n",
    "\n",
    "\n",
    "# spark = SparkSession.builder \\\n",
    "#     .appName('NugaBankETL') \\\n",
    "#     .config(\"spark.driver.memory\", \"8g\") \\\n",
    "#     .master(\"local[*]\") \\\n",
    "#     .getOrCreate()\n",
    "\n"
   ]
  },
  {
   "cell_type": "code",
   "execution_count": 3,
   "metadata": {},
   "outputs": [
    {
     "data": {
      "text/html": [
       "\n",
       "            <div>\n",
       "                <p><b>SparkSession - in-memory</b></p>\n",
       "                \n",
       "        <div>\n",
       "            <p><b>SparkContext</b></p>\n",
       "\n",
       "            <p><a href=\"http://DESKTOP-VDNGTNA:4040\">Spark UI</a></p>\n",
       "\n",
       "            <dl>\n",
       "              <dt>Version</dt>\n",
       "                <dd><code>v3.5.4</code></dd>\n",
       "              <dt>Master</dt>\n",
       "                <dd><code>local[*]</code></dd>\n",
       "              <dt>AppName</dt>\n",
       "                <dd><code>NugaBankETL</code></dd>\n",
       "            </dl>\n",
       "        </div>\n",
       "        \n",
       "            </div>\n",
       "        "
      ],
      "text/plain": [
       "<pyspark.sql.session.SparkSession at 0x20809321390>"
      ]
     },
     "execution_count": 3,
     "metadata": {},
     "output_type": "execute_result"
    }
   ],
   "source": [
    "spark"
   ]
  },
  {
   "cell_type": "code",
   "execution_count": 4,
   "metadata": {},
   "outputs": [],
   "source": [
    "# Data Extraction\n",
    "nuga_bank_df = spark.read.csv(r'nuga_bank_transactions.csv', header=True, inferSchema=True)"
   ]
  },
  {
   "cell_type": "code",
   "execution_count": null,
   "metadata": {},
   "outputs": [
    {
     "name": "stdout",
     "output_type": "stream",
     "text": [
      "+--------------------+------+----------------+--------------+--------------------+------------------+--------------+--------------------+--------------------+--------------------+--------------------+-------------------+------------------+--------------------+-------------+-------------+--------+-----+---------+--------------------+--------------------+------+--------------+\n",
      "|    Transaction_Date|Amount|Transaction_Type| Customer_Name|    Customer_Address|     Customer_City|Customer_State|    Customer_Country|             Company|           Job_Title|               Email|       Phone_Number|Credit_Card_Number|                IBAN|Currency_Code|Random_Number|Category|Group|Is_Active|        Last_Updated|         Description|Gender|Marital_Status|\n",
      "+--------------------+------+----------------+--------------+--------------------+------------------+--------------+--------------------+--------------------+--------------------+--------------------+-------------------+------------------+--------------------+-------------+-------------+--------+-----+---------+--------------------+--------------------+------+--------------+\n",
      "|2024-03-23 15:38:...| 34.76|      Withdrawal|    James Neal|54912 Holmes Lodg...| West Keithborough|       Florida|                Togo|Benson, Johnson a...|                NULL|                NULL|  493.720.6609x7545|  3592901394693441|GB98RBPP090285271...|          MAD|       3167.0|       C|    Z|       No|2020-06-20 03:04:...|Yeah food anythin...| Other|      Divorced|\n",
      "|2024-04-22 19:15:...|163.92|      Withdrawal|   Thomas Long| 1133 Collin Passage|        Joshuabury|   Connecticut|Lao People's Demo...|                NULL|   Food technologist|michellelynch@exa...|      (497)554-3317|              NULL|GB03KFZR339662263...|          VEF|       2122.0|       B|    Z|     NULL|2020-12-27 13:23:...|Teach edge make n...|Female|       Married|\n",
      "|2024-04-12 19:46:...|386.32|      Withdrawal|Ashley Shelton|5297 Johnson Port...|       North Maria|    New Jersey|              Bhutan|       Jones-Mueller|Database administ...| ljordan@example.org|      (534)769-3072|      675983949974|GB59QYRN446730519...|          COP|       7796.0|       C|    Z|       No|2020-01-24 01:23:...|Again line face c...| Other|          NULL|\n",
      "|2024-04-17 15:29:...|407.15|         Deposit| James Rosario|56955 Moore Glens...|North Michellefurt|    New Mexico|             Iceland|       Vargas-Harris|Horticultural the...|parkerjames@examp...|+1-447-900-1320x257|     4761202519057|GB74FTDO268299438...|          BWP|       6284.0|       C|    Z|      Yes|2023-09-27 03:01:...|     Bag my a drive.|  NULL|          NULL|\n",
      "|2024-02-10 01:51:...|161.31|         Deposit|Miguel Leonard|262 Beck Expressw...|              NULL| West Virginia|             Eritrea|Richardson, Gonza...|   Minerals surveyor| zweaver@example.net|               NULL|   213156729655186|GB94EWRN587847592...|          SOS|       9179.0|       C|    Y|       No|2022-01-22 19:08:...|Husband find ok w...|Female|       Married|\n",
      "+--------------------+------+----------------+--------------+--------------------+------------------+--------------+--------------------+--------------------+--------------------+--------------------+-------------------+------------------+--------------------+-------------+-------------+--------+-----+---------+--------------------+--------------------+------+--------------+\n",
      "only showing top 5 rows\n",
      "\n"
     ]
    }
   ],
   "source": [
    "nuga_bank_df.show(5)"
   ]
  },
  {
   "cell_type": "code",
   "execution_count": 6,
   "metadata": {},
   "outputs": [
    {
     "name": "stdout",
     "output_type": "stream",
     "text": [
      "root\n",
      " |-- Transaction_Date: timestamp (nullable = true)\n",
      " |-- Amount: double (nullable = true)\n",
      " |-- Transaction_Type: string (nullable = true)\n",
      " |-- Customer_Name: string (nullable = true)\n",
      " |-- Customer_Address: string (nullable = true)\n",
      " |-- Customer_City: string (nullable = true)\n",
      " |-- Customer_State: string (nullable = true)\n",
      " |-- Customer_Country: string (nullable = true)\n",
      " |-- Company: string (nullable = true)\n",
      " |-- Job_Title: string (nullable = true)\n",
      " |-- Email: string (nullable = true)\n",
      " |-- Phone_Number: string (nullable = true)\n",
      " |-- Credit_Card_Number: long (nullable = true)\n",
      " |-- IBAN: string (nullable = true)\n",
      " |-- Currency_Code: string (nullable = true)\n",
      " |-- Random_Number: double (nullable = true)\n",
      " |-- Category: string (nullable = true)\n",
      " |-- Group: string (nullable = true)\n",
      " |-- Is_Active: string (nullable = true)\n",
      " |-- Last_Updated: timestamp (nullable = true)\n",
      " |-- Description: string (nullable = true)\n",
      " |-- Gender: string (nullable = true)\n",
      " |-- Marital_Status: string (nullable = true)\n",
      "\n"
     ]
    }
   ],
   "source": [
    "nuga_bank_df.printSchema()"
   ]
  },
  {
   "cell_type": "markdown",
   "metadata": {},
   "source": [
    "### Data Cleaning and Transformation Layer"
   ]
  },
  {
   "cell_type": "code",
   "execution_count": null,
   "metadata": {},
   "outputs": [
    {
     "data": {
      "text/plain": [
       "['Transaction_Date',\n",
       " 'Amount',\n",
       " 'Transaction_Type',\n",
       " 'Customer_Name',\n",
       " 'Customer_Address',\n",
       " 'Customer_City',\n",
       " 'Customer_State',\n",
       " 'Customer_Country',\n",
       " 'Company',\n",
       " 'Job_Title',\n",
       " 'Email',\n",
       " 'Phone_Number',\n",
       " 'Credit_Card_Number',\n",
       " 'IBAN',\n",
       " 'Currency_Code',\n",
       " 'Random_Number',\n",
       " 'Category',\n",
       " 'Group',\n",
       " 'Is_Active',\n",
       " 'Last_Updated',\n",
       " 'Description',\n",
       " 'Gender',\n",
       " 'Marital_Status']"
      ]
     },
     "execution_count": 7,
     "metadata": {},
     "output_type": "execute_result"
    }
   ],
   "source": [
    "nuga_bank_df.columns"
   ]
  },
  {
   "cell_type": "code",
   "execution_count": 8,
   "metadata": {},
   "outputs": [
    {
     "data": {
      "text/plain": [
       "1000000"
      ]
     },
     "execution_count": 8,
     "metadata": {},
     "output_type": "execute_result"
    }
   ],
   "source": [
    "# Number of Rows\n",
    "\n",
    "num_rows = nuga_bank_df.count()\n",
    "\n",
    "num_rows"
   ]
  },
  {
   "cell_type": "code",
   "execution_count": 9,
   "metadata": {},
   "outputs": [
    {
     "data": {
      "text/plain": [
       "23"
      ]
     },
     "execution_count": 9,
     "metadata": {},
     "output_type": "execute_result"
    }
   ],
   "source": [
    "# Number of Columns\n",
    "\n",
    "num_columns = len(nuga_bank_df.columns)\n",
    "\n",
    "num_columns"
   ]
  },
  {
   "cell_type": "code",
   "execution_count": 10,
   "metadata": {},
   "outputs": [
    {
     "name": "stdout",
     "output_type": "stream",
     "text": [
      "Transaction_Date Nulls 0\n",
      "Amount Nulls 0\n",
      "Transaction_Type Nulls 0\n",
      "Customer_Name Nulls 100425\n",
      "Customer_Address Nulls 100087\n",
      "Customer_City Nulls 100034\n",
      "Customer_State Nulls 100009\n"
     ]
    },
    {
     "name": "stdout",
     "output_type": "stream",
     "text": [
      "Customer_Country Nulls 100672\n",
      "Company Nulls 100295\n",
      "Job_Title Nulls 99924\n",
      "Email Nulls 100043\n",
      "Phone_Number Nulls 100524\n",
      "Credit_Card_Number Nulls 100085\n",
      "IBAN Nulls 100300\n",
      "Currency_Code Nulls 99342\n",
      "Random_Number Nulls 99913\n",
      "Category Nulls 100332\n",
      "Group Nulls 100209\n",
      "Is_Active Nulls 100259\n",
      "Last_Updated Nulls 100321\n",
      "Description Nulls 100403\n",
      "Gender Nulls 99767\n",
      "Marital_Status Nulls 99904\n"
     ]
    }
   ],
   "source": [
    "# Checking for null values\n",
    "\n",
    "for column in nuga_bank_df.columns:\n",
    "    print(column, 'Nulls', nuga_bank_df.filter(nuga_bank_df[column].isNull()).count())"
   ]
  },
  {
   "cell_type": "code",
   "execution_count": 11,
   "metadata": {},
   "outputs": [],
   "source": [
    "# How to fill up missing values\n",
    "\n",
    "nuga_bank_df_clean = nuga_bank_df.fillna({\n",
    "    'Customer_Name' : 'Unknown',\n",
    "    'Customer_Address' : 'Unknown',\n",
    "    'Customer_City' : 'Unknown',\n",
    "    'Customer_State' : 'Unknown',\n",
    "    'Customer_Country' : 'Unknown',\n",
    "    'Company' : 'Unknown',\n",
    "    'Job_Title' : 'Unknown',\n",
    "    'Email' : 'Unknown',\n",
    "    'Phone_Number' : 'Unknown',\n",
    "    'Credit_Card_Number' : 0,\n",
    "    'IBAN' : 'Unknown',\n",
    "    'Currency_Code' : 'Unknown',\n",
    "    'Random_Number' : 0.0,\n",
    "    'Category' : 'Unknown',\n",
    "    'Group' : 'Unknown',\n",
    "    'Is_Active' : 'Unknown',\n",
    "    'Description' : 'Unknown',\n",
    "    'Gender' : 'Unknown',\n",
    "    'Marital_Status' : 'Unknown'\n",
    "})\n",
    "\n",
    "# Note: We skipped Last_Updated because from the code (nuga_bank_df.printSchema()), we saw that the data type of Last_Updated was timestamp and it's difficult to clean it, its easier to just drop it."
   ]
  },
  {
   "cell_type": "code",
   "execution_count": null,
   "metadata": {},
   "outputs": [
    {
     "name": "stdout",
     "output_type": "stream",
     "text": [
      "Transaction_Date Nulls 0\n",
      "Amount Nulls 0\n",
      "Transaction_Type Nulls 0\n",
      "Customer_Name Nulls 0\n",
      "Customer_Address Nulls 0\n",
      "Customer_City Nulls 0\n",
      "Customer_State Nulls 0\n",
      "Customer_Country Nulls 0\n",
      "Company Nulls 0\n",
      "Job_Title Nulls 0\n",
      "Email Nulls 0\n",
      "Phone_Number Nulls 0\n",
      "Credit_Card_Number Nulls 0\n",
      "IBAN Nulls 0\n",
      "Currency_Code Nulls 0\n",
      "Random_Number Nulls 0\n",
      "Category Nulls 0\n",
      "Group Nulls 0\n",
      "Is_Active Nulls 0\n",
      "Last_Updated Nulls 100321\n",
      "Description Nulls 0\n",
      "Gender Nulls 0\n",
      "Marital_Status Nulls 0\n"
     ]
    }
   ],
   "source": [
    "# re-Checking to confirm that all null values have been cleaned\n",
    "\n",
    "for column in nuga_bank_df_clean.columns:\n",
    "    print(column, 'Nulls', nuga_bank_df_clean.filter(nuga_bank_df_clean[column].isNull()).count())"
   ]
  },
  {
   "cell_type": "code",
   "execution_count": 13,
   "metadata": {},
   "outputs": [],
   "source": [
    "# Dropping missing values in Last_Updated: To do this, you'll have to drop rows where Last_Updated is null\n",
    "\n",
    "nuga_bank_df_clean = nuga_bank_df_clean.na.drop(subset=['Last_Updated'])"
   ]
  },
  {
   "cell_type": "code",
   "execution_count": 14,
   "metadata": {},
   "outputs": [
    {
     "name": "stdout",
     "output_type": "stream",
     "text": [
      "Transaction_Date Nulls 0\n",
      "Amount Nulls 0\n",
      "Transaction_Type Nulls 0\n",
      "Customer_Name Nulls 0\n",
      "Customer_Address Nulls 0\n",
      "Customer_City Nulls 0\n",
      "Customer_State Nulls 0\n",
      "Customer_Country Nulls 0\n",
      "Company Nulls 0\n",
      "Job_Title Nulls 0\n",
      "Email Nulls 0\n",
      "Phone_Number Nulls 0\n",
      "Credit_Card_Number Nulls 0\n",
      "IBAN Nulls 0\n",
      "Currency_Code Nulls 0\n",
      "Random_Number Nulls 0\n",
      "Category Nulls 0\n",
      "Group Nulls 0\n"
     ]
    },
    {
     "name": "stdout",
     "output_type": "stream",
     "text": [
      "Is_Active Nulls 0\n",
      "Last_Updated Nulls 0\n",
      "Description Nulls 0\n",
      "Gender Nulls 0\n",
      "Marital_Status Nulls 0\n"
     ]
    }
   ],
   "source": [
    "# re-Checking to confirm that Last_Updated have been dropped\n",
    "\n",
    "for column in nuga_bank_df_clean.columns:\n",
    "    print(column, 'Nulls', nuga_bank_df_clean.filter(nuga_bank_df_clean[column].isNull()).count())"
   ]
  },
  {
   "cell_type": "code",
   "execution_count": 15,
   "metadata": {},
   "outputs": [
    {
     "data": {
      "text/plain": [
       "899679"
      ]
     },
     "execution_count": 15,
     "metadata": {},
     "output_type": "execute_result"
    }
   ],
   "source": [
    "# Checking the total number of rows to confirm that the rows where Last_Updated was null, have been dropoped.\n",
    "\n",
    "num_rows = nuga_bank_df_clean.count()\n",
    "\n",
    "num_rows"
   ]
  },
  {
   "cell_type": "code",
   "execution_count": 16,
   "metadata": {},
   "outputs": [
    {
     "name": "stdout",
     "output_type": "stream",
     "text": [
      "+-------+------------------+----------------+-------------+--------------------+-------------+--------------+----------------+-------------+------------------+-------------------+-------------------+--------------------+--------------------+-------------+-----------------+--------+-------+---------+--------------------+-------+--------------+\n",
      "|summary|            Amount|Transaction_Type|Customer_Name|    Customer_Address|Customer_City|Customer_State|Customer_Country|      Company|         Job_Title|              Email|       Phone_Number|  Credit_Card_Number|                IBAN|Currency_Code|    Random_Number|Category|  Group|Is_Active|         Description| Gender|Marital_Status|\n",
      "+-------+------------------+----------------+-------------+--------------------+-------------+--------------+----------------+-------------+------------------+-------------------+-------------------+--------------------+--------------------+-------------+-----------------+--------+-------+---------+--------------------+-------+--------------+\n",
      "|  count|            899679|          899679|       899679|              899679|       899679|        899679|          899679|       899679|            899679|             899679|             899679|              899679|              899679|       899679|           899679|  899679| 899679|   899679|              899679| 899679|        899679|\n",
      "|   mean|505.10367708927123|            NULL|         NULL|                NULL|         NULL|          NULL|            NULL|         NULL|              NULL|               NULL|6.002851385999521E9|3.409662226750534...|                NULL|         NULL|4952.920380491264|    NULL|   NULL|     NULL|                NULL|   NULL|          NULL|\n",
      "| stddev|285.79453433004744|            NULL|         NULL|                NULL|         NULL|          NULL|            NULL|         NULL|              NULL|               NULL|2.306837103861942E9|1.189655005733001...|                NULL|         NULL|2966.543401151602|    NULL|   NULL|     NULL|                NULL|   NULL|          NULL|\n",
      "|    min|              10.0|         Deposit| Aaron Abbott|000 Aaron Landing...|    Aaronberg|       Alabama|     Afghanistan| Abbott Group|Academic librarian|            Unknown|      (200)201-4254|                   0|GB02AAAU191993009...|          AED|              0.0|       A|Unknown|       No|A American and to...| Female|      Divorced|\n",
      "|    max|            1000.0|      Withdrawal|    Zoe Young|             Unknown|  Zunigaville|       Wyoming|        Zimbabwe|Zuniga-Wilson|      Youth worker|zzuniga@example.org|            Unknown| 4999984361512569455|             Unknown|          ZWD|           9999.0| Unknown|      Z|      Yes|Yourself young ev...|Unknown|       Unknown|\n",
      "+-------+------------------+----------------+-------------+--------------------+-------------+--------------+----------------+-------------+------------------+-------------------+-------------------+--------------------+--------------------+-------------+-----------------+--------+-------+---------+--------------------+-------+--------------+\n",
      "\n"
     ]
    }
   ],
   "source": [
    "# To view the summary statistics of the data\n",
    "nuga_bank_df_clean.describe().show()"
   ]
  },
  {
   "cell_type": "code",
   "execution_count": 17,
   "metadata": {},
   "outputs": [
    {
     "data": {
      "text/plain": [
       "['Transaction_Date',\n",
       " 'Amount',\n",
       " 'Transaction_Type',\n",
       " 'Customer_Name',\n",
       " 'Customer_Address',\n",
       " 'Customer_City',\n",
       " 'Customer_State',\n",
       " 'Customer_Country',\n",
       " 'Company',\n",
       " 'Job_Title',\n",
       " 'Email',\n",
       " 'Phone_Number',\n",
       " 'Credit_Card_Number',\n",
       " 'IBAN',\n",
       " 'Currency_Code',\n",
       " 'Random_Number',\n",
       " 'Category',\n",
       " 'Group',\n",
       " 'Is_Active',\n",
       " 'Last_Updated',\n",
       " 'Description',\n",
       " 'Gender',\n",
       " 'Marital_Status']"
      ]
     },
     "execution_count": 17,
     "metadata": {},
     "output_type": "execute_result"
    }
   ],
   "source": [
    "# Number of Columns\n",
    "nuga_bank_df_clean.columns"
   ]
  },
  {
   "cell_type": "markdown",
   "metadata": {},
   "source": [
    "### Creating Tables from the data Model"
   ]
  },
  {
   "cell_type": "code",
   "execution_count": 18,
   "metadata": {},
   "outputs": [],
   "source": [
    "# Transaction table\n",
    "transaction = nuga_bank_df_clean.select('Transaction_Date','Amount', 'Transaction_Type')"
   ]
  },
  {
   "cell_type": "code",
   "execution_count": null,
   "metadata": {},
   "outputs": [
    {
     "name": "stdout",
     "output_type": "stream",
     "text": [
      "+--------------------+------+----------------+\n",
      "|    Transaction_Date|Amount|Transaction_Type|\n",
      "+--------------------+------+----------------+\n",
      "|2024-03-23 15:38:...| 34.76|      Withdrawal|\n",
      "|2024-04-22 19:15:...|163.92|      Withdrawal|\n",
      "|2024-04-12 19:46:...|386.32|      Withdrawal|\n",
      "|2024-04-17 15:29:...|407.15|         Deposit|\n",
      "|2024-02-10 01:51:...|161.31|         Deposit|\n",
      "|2024-02-10 22:56:...|764.34|        Transfer|\n",
      "|2024-04-07 00:07:...|734.59|         Deposit|\n",
      "|2024-03-08 01:51:...|592.43|         Deposit|\n",
      "|2024-02-01 12:34:...| 927.1|         Deposit|\n",
      "|2024-03-22 16:46:...| 66.59|        Transfer|\n",
      "|2024-04-23 13:30:...| 246.3|      Withdrawal|\n",
      "|2024-01-13 01:22:...|782.32|      Withdrawal|\n",
      "|2024-02-25 15:16:...|818.42|      Withdrawal|\n",
      "|2024-01-01 20:55:...|352.23|      Withdrawal|\n",
      "|2024-01-19 00:01:...|316.19|      Withdrawal|\n",
      "|2024-04-09 14:40:...|662.26|      Withdrawal|\n",
      "|2024-04-15 04:58:...|893.73|         Deposit|\n",
      "|2024-04-12 14:32:...|746.22|      Withdrawal|\n",
      "|2024-02-26 14:43:...|214.77|      Withdrawal|\n",
      "|2024-01-17 14:50:...|726.94|      Withdrawal|\n",
      "+--------------------+------+----------------+\n",
      "only showing top 20 rows\n",
      "\n"
     ]
    }
   ],
   "source": [
    "transaction.show()"
   ]
  },
  {
   "cell_type": "code",
   "execution_count": 20,
   "metadata": {},
   "outputs": [],
   "source": [
    "# Creating the transaction_id column\n",
    "\n",
    "transaction = transaction.withColumn('Transaction_id', monotonically_increasing_id())"
   ]
  },
  {
   "cell_type": "code",
   "execution_count": null,
   "metadata": {},
   "outputs": [
    {
     "name": "stdout",
     "output_type": "stream",
     "text": [
      "+--------------------+------+----------------+--------------+\n",
      "|    Transaction_Date|Amount|Transaction_Type|Transaction_id|\n",
      "+--------------------+------+----------------+--------------+\n",
      "|2024-03-23 15:38:...| 34.76|      Withdrawal|             0|\n",
      "|2024-04-22 19:15:...|163.92|      Withdrawal|             1|\n",
      "|2024-04-12 19:46:...|386.32|      Withdrawal|             2|\n",
      "|2024-04-17 15:29:...|407.15|         Deposit|             3|\n",
      "|2024-02-10 01:51:...|161.31|         Deposit|             4|\n",
      "|2024-02-10 22:56:...|764.34|        Transfer|             5|\n",
      "|2024-04-07 00:07:...|734.59|         Deposit|             6|\n",
      "|2024-03-08 01:51:...|592.43|         Deposit|             7|\n",
      "|2024-02-01 12:34:...| 927.1|         Deposit|             8|\n",
      "|2024-03-22 16:46:...| 66.59|        Transfer|             9|\n",
      "|2024-04-23 13:30:...| 246.3|      Withdrawal|            10|\n",
      "|2024-01-13 01:22:...|782.32|      Withdrawal|            11|\n",
      "|2024-02-25 15:16:...|818.42|      Withdrawal|            12|\n",
      "|2024-01-01 20:55:...|352.23|      Withdrawal|            13|\n",
      "|2024-01-19 00:01:...|316.19|      Withdrawal|            14|\n",
      "|2024-04-09 14:40:...|662.26|      Withdrawal|            15|\n",
      "|2024-04-15 04:58:...|893.73|         Deposit|            16|\n",
      "|2024-04-12 14:32:...|746.22|      Withdrawal|            17|\n",
      "|2024-02-26 14:43:...|214.77|      Withdrawal|            18|\n",
      "|2024-01-17 14:50:...|726.94|      Withdrawal|            19|\n",
      "+--------------------+------+----------------+--------------+\n",
      "only showing top 20 rows\n",
      "\n"
     ]
    }
   ],
   "source": [
    "transaction.show()"
   ]
  },
  {
   "cell_type": "code",
   "execution_count": 22,
   "metadata": {},
   "outputs": [],
   "source": [
    "# Now lets re-arrange the columns \n",
    "transaction = transaction.select('Transaction_id', 'Transaction_Date', 'Amount', 'Transaction_Type')"
   ]
  },
  {
   "cell_type": "code",
   "execution_count": null,
   "metadata": {},
   "outputs": [
    {
     "name": "stdout",
     "output_type": "stream",
     "text": [
      "+--------------+--------------------+------+----------------+\n",
      "|Transaction_id|    Transaction_Date|Amount|Transaction_Type|\n",
      "+--------------+--------------------+------+----------------+\n",
      "|             0|2024-03-23 15:38:...| 34.76|      Withdrawal|\n",
      "|             1|2024-04-22 19:15:...|163.92|      Withdrawal|\n",
      "|             2|2024-04-12 19:46:...|386.32|      Withdrawal|\n",
      "|             3|2024-04-17 15:29:...|407.15|         Deposit|\n",
      "|             4|2024-02-10 01:51:...|161.31|         Deposit|\n",
      "|             5|2024-02-10 22:56:...|764.34|        Transfer|\n",
      "|             6|2024-04-07 00:07:...|734.59|         Deposit|\n",
      "|             7|2024-03-08 01:51:...|592.43|         Deposit|\n",
      "|             8|2024-02-01 12:34:...| 927.1|         Deposit|\n",
      "|             9|2024-03-22 16:46:...| 66.59|        Transfer|\n",
      "|            10|2024-04-23 13:30:...| 246.3|      Withdrawal|\n",
      "|            11|2024-01-13 01:22:...|782.32|      Withdrawal|\n",
      "|            12|2024-02-25 15:16:...|818.42|      Withdrawal|\n",
      "|            13|2024-01-01 20:55:...|352.23|      Withdrawal|\n",
      "|            14|2024-01-19 00:01:...|316.19|      Withdrawal|\n",
      "|            15|2024-04-09 14:40:...|662.26|      Withdrawal|\n",
      "|            16|2024-04-15 04:58:...|893.73|         Deposit|\n",
      "|            17|2024-04-12 14:32:...|746.22|      Withdrawal|\n",
      "|            18|2024-02-26 14:43:...|214.77|      Withdrawal|\n",
      "|            19|2024-01-17 14:50:...|726.94|      Withdrawal|\n",
      "+--------------+--------------------+------+----------------+\n",
      "only showing top 20 rows\n",
      "\n"
     ]
    }
   ],
   "source": [
    "transaction.show()"
   ]
  },
  {
   "cell_type": "code",
   "execution_count": 24,
   "metadata": {},
   "outputs": [],
   "source": [
    "# Creating the Customer table\n",
    "customer = nuga_bank_df_clean.select('Customer_Name', 'Customer_Address', 'Customer_City', 'Customer_State', 'Customer_Country', 'Email', 'Phone_Number')\n",
    "\n",
    "# Creating the customer_id column\n",
    "customer = customer.withColumn('Customer_id', monotonically_increasing_id())\n",
    "\n",
    "# Now lets re-arrange the columns \n",
    "customer = customer.select('Customer_id', 'Customer_Name', 'Customer_Address', 'Customer_City', 'Customer_State', 'Customer_Country', 'Email', 'Phone_Number')"
   ]
  },
  {
   "cell_type": "code",
   "execution_count": null,
   "metadata": {},
   "outputs": [
    {
     "name": "stdout",
     "output_type": "stream",
     "text": [
      "+-----------+-----------------+--------------------+--------------------+--------------+--------------------+--------------------+-------------------+\n",
      "|Customer_id|    Customer_Name|    Customer_Address|       Customer_City|Customer_State|    Customer_Country|               Email|       Phone_Number|\n",
      "+-----------+-----------------+--------------------+--------------------+--------------+--------------------+--------------------+-------------------+\n",
      "|          0|       James Neal|54912 Holmes Lodg...|   West Keithborough|       Florida|                Togo|             Unknown|  493.720.6609x7545|\n",
      "|          1|      Thomas Long| 1133 Collin Passage|          Joshuabury|   Connecticut|Lao People's Demo...|michellelynch@exa...|      (497)554-3317|\n",
      "|          2|   Ashley Shelton|5297 Johnson Port...|         North Maria|    New Jersey|              Bhutan| ljordan@example.org|      (534)769-3072|\n",
      "|          3|    James Rosario|56955 Moore Glens...|  North Michellefurt|    New Mexico|             Iceland|parkerjames@examp...|+1-447-900-1320x257|\n",
      "|          4|   Miguel Leonard|262 Beck Expressw...|             Unknown| West Virginia|             Eritrea| zweaver@example.net|            Unknown|\n",
      "|          5|      Jesse Clark|      194 Derek Burg|        Wallacemouth|    New Mexico|             Estonia|benjaminwalker@ex...|   229-511-2530x870|\n",
      "|          6|       Mark Estes|4077 James Lane A...|      Williamsonport|      Michigan|Antarctica (the t...|karenrobinson@exa...|      (840)334-1610|\n",
      "|          7|       Kelly Ruiz|             Unknown|          New Lauren|       Unknown|             Unknown|  iestes@example.org| 495.430.4276x42618|\n",
      "|          8|        Brad Yang|    579 Nolan Harbor|South Christopher...|  South Dakota|             Unknown|maryduran@example...|  (241)738-0972x658|\n",
      "|          9|   Dalton Jimenez|4330 Christine Vista|        Port Kirsten|       Unknown|            Cameroon|             Unknown|       670-499-0309|\n",
      "|         10|   Paige Sheppard|0947 Mendez Under...|          Medinastad|North Carolina|             Iceland|  eric64@example.net|            Unknown|\n",
      "|         11|   Stephen Nguyen|    01696 Brown Cape|          South Mary|       Wyoming|Heard Island and ...|stewartjames@exam...|  680-460-3674x6031|\n",
      "|         12|    Renee Roberts|7591 Ponce Unions...|          Amandaside| Massachusetts|            Barbados|             Unknown|       695-680-5744|\n",
      "|         13|Jacqueline Thomas|172 Morse Falls A...|         Bennettbury|      Oklahoma|                Fiji|  mark84@example.com| 484.837.6166x81262|\n",
      "|         14|     Joseph Pratt|71283 Thomas Port...|        Lake Michele|        Nevada|     Kyrgyz Republic|robert02@example.com| 623.219.7997x39012|\n",
      "|         15|        Tara Gray|    3476 Johnny Loaf|     South Davidland|     Tennessee|               Tonga|ewilliams@example...|            Unknown|\n",
      "|         16|  Dominique Lynch|   181 Gregory Ferry|           Jamesfort|         Maine|               Kenya|suzanne41@example...|       448-821-0207|\n",
      "|         17|      Sarah Brown|    4645 Smith Drive|        Arellanobury|   Mississippi|             Mayotte|sullivandiane@exa...|(643)844-2202x42284|\n",
      "|         18|    Michael Brown|94463 Novak Turnp...|        North Robert|       Unknown|             Somalia|elliserica@exampl...|   214-650-4477x630|\n",
      "|         19|     Tamara Clark|   4902 Torres Ports|        Bridgesmouth|     Tennessee|        Turkmenistan|annerice@example.com|  (528)927-0111x373|\n",
      "+-----------+-----------------+--------------------+--------------------+--------------+--------------------+--------------------+-------------------+\n",
      "only showing top 20 rows\n",
      "\n"
     ]
    }
   ],
   "source": [
    "customer.show()"
   ]
  },
  {
   "cell_type": "code",
   "execution_count": 26,
   "metadata": {},
   "outputs": [],
   "source": [
    "# Creating the employee table\n",
    "employee = nuga_bank_df_clean.select('Company', 'Job_Title', 'Gender', 'Marital_Status')\n",
    "\n",
    "# Creating the employees_id column\n",
    "employee = employee.withColumn('Employee_id', monotonically_increasing_id())\n",
    "\n",
    "# Now lets re-arrange the columns \n",
    "employee = employee.select('Employee_id', 'Company', 'Job_Title', 'Gender', 'Marital_Status')"
   ]
  },
  {
   "cell_type": "code",
   "execution_count": null,
   "metadata": {},
   "outputs": [
    {
     "name": "stdout",
     "output_type": "stream",
     "text": [
      "+-----------+--------------------+--------------------+-------+--------------+\n",
      "|Employee_id|             Company|           Job_Title| Gender|Marital_Status|\n",
      "+-----------+--------------------+--------------------+-------+--------------+\n",
      "|          0|Benson, Johnson a...|             Unknown|  Other|      Divorced|\n",
      "|          1|             Unknown|   Food technologist| Female|       Married|\n",
      "|          2|       Jones-Mueller|Database administ...|  Other|       Unknown|\n",
      "|          3|       Vargas-Harris|Horticultural the...|Unknown|       Unknown|\n",
      "|          4|Richardson, Gonza...|   Minerals surveyor| Female|       Married|\n",
      "|          5|           Smith Ltd| Seismic interpreter|  Other|       Married|\n",
      "|          6|         Wade-Kelley|  Surveyor, minerals|   Male|       Unknown|\n",
      "|          7|             Unknown|Medical laborator...| Female|        Single|\n",
      "|          8|         Lindsey LLC|Programmer, appli...| Female|        Single|\n",
      "|          9|         Carroll LLC|             Unknown|   Male|        Single|\n",
      "|         10|             Unknown|     Sales executive|   Male|      Divorced|\n",
      "|         11|Lynch, Hayes and ...|       Stage manager|Unknown|       Married|\n",
      "|         12|           Green Ltd|Psychologist, pri...|   Male|       Unknown|\n",
      "|         13|             Unknown|Designer, blown g...| Female|        Single|\n",
      "|         14|     Morris-Reynolds|          Podiatrist|  Other|       Married|\n",
      "|         15|         Sutton-Owen|   Financial planner|  Other|       Married|\n",
      "|         16|         Brown Group|Nutritional thera...|  Other|       Married|\n",
      "|         17|         Scott Group|     Games developer|  Other|       Married|\n",
      "|         18|Bryant, Huffman a...|Research scientis...|  Other|       Married|\n",
      "|         19|          Palmer PLC|             Unknown|   Male|      Divorced|\n",
      "+-----------+--------------------+--------------------+-------+--------------+\n",
      "only showing top 20 rows\n",
      "\n"
     ]
    }
   ],
   "source": [
    "employee.show()"
   ]
  },
  {
   "cell_type": "code",
   "execution_count": 28,
   "metadata": {},
   "outputs": [],
   "source": [
    "# Creating the facts table\n",
    "facts_table = nuga_bank_df_clean.join(customer, ['Customer_Name', 'Customer_Address', 'Customer_City', 'Customer_State', 'Customer_Country', 'Email', 'Phone_Number'], 'left') \\\n",
    "                                .join(transaction, ['Transaction_Date', 'Amount', 'Transaction_Type'], 'left') \\\n",
    "                                .join(employee, ['Company', 'Job_Title', 'Gender', 'Marital_Status'], 'left') \\\n",
    "                                .select('Customer_id', 'Transaction_id', 'Employee_id', 'Credit_Card_Number', 'IBAN', 'Currency_Code', 'Random_Number', 'Category', 'Group', 'Is_Active', 'Last_Updated', 'Description')\n",
    "\n",
    "\n"
   ]
  },
  {
   "cell_type": "code",
   "execution_count": null,
   "metadata": {},
   "outputs": [
    {
     "name": "stdout",
     "output_type": "stream",
     "text": [
      "+-----------+--------------+-----------+------------------+--------------------+-------------+-------------+--------+-------+---------+--------------------+--------------------+\n",
      "|Customer_id|Transaction_id|Employee_id|Credit_Card_Number|                IBAN|Currency_Code|Random_Number|Category|  Group|Is_Active|        Last_Updated|         Description|\n",
      "+-----------+--------------+-----------+------------------+--------------------+-------------+-------------+--------+-------+---------+--------------------+--------------------+\n",
      "|25769803788|   25769803788|25769803788|  3524136323090715|GB83HATT453421177...|          CLP|       8888.0|       C|      Y|       No|2022-02-17 13:35:...|Thing few head de...|\n",
      "|         18|            18|         18|   213112163828334|GB50TJFN039979307...|          SVC|       7382.0|       B|      Z|      Yes|2020-01-19 18:19:...|Great evening so ...|\n",
      "|17179869191|   17179869191|17179869191|   180029146062238|GB17MTZS784426277...|          GIP|       5688.0|       A|Unknown|  Unknown|2021-02-23 05:57:...|Network quite sit...|\n",
      "|17179869187|   17179869187|17179869187|  4200874818340943|GB38LSVV394276411...|          MYR|       3553.0|       B|      Y|       No|2020-02-06 04:27:...|             Unknown|\n",
      "|17179869186|   17179869186|17179869186|   374058309755656|GB22TJLV398615170...|          CHF|       6975.0|       D|Unknown|       No|2020-01-04 09:08:...|Miss floor trip p...|\n",
      "|17179869185|   17179869185|17179869185|  5294843442634660|GB58EBSY417856278...|          CZK|       4989.0|       D|      X|      Yes|2023-08-26 23:10:...|             Unknown|\n",
      "| 8589934611|    8589934611| 8589934611|  4409990154098702|GB71EUPG537834141...|          BMD|       3872.0|       D|      Z|      Yes|2023-07-30 18:54:...|Color future chai...|\n",
      "|         20|            20|         20|   213186454811670|GB77SPMZ984195063...|          SOS|       7610.0|       C|      X|       No|2021-04-15 13:30:...|Concern remember ...|\n",
      "|          8|             8|          8|   180039947294310|GB48WNWB013807482...|          HRK|       3061.0|       B|      X|       No|2020-08-31 20:40:...|Notice paper son ...|\n",
      "|         11|            11|         11|  4304956118653227|GB15VYWJ018711823...|          NIO|       2502.0|       B|      Y|      Yes|2021-04-12 20:23:...|Rest theory serve...|\n",
      "|25769803781|   25769803781|25769803781|  4528940883612006|GB81QGNE734082085...|          CNY|          0.0|       C|      X|       No|2023-06-29 14:00:...|Purpose discover ...|\n",
      "|25769803778|   25769803778|25769803778|  3505644604415991|GB59AZPE020114645...|          KZT|       1584.0|       B|      Y|      Yes|2020-01-02 14:35:...|Shoulder call tho...|\n",
      "| 8589934593|    8589934593| 8589934593|   213123497507940|GB61RQDC156293863...|          GBP|          0.0|       B|      Z|      Yes|2023-01-29 06:25:...|    Plant very name.|\n",
      "|25769803794|   25769803794|25769803794|  4594077197788971|GB41SKQC651538745...|          XOF|       6574.0| Unknown|      Z|  Unknown|2022-11-06 01:41:...|Full easy source ...|\n",
      "|17179869195|   17179869195|17179869195|   374183057607683|GB06NSXT356228392...|          MNT|       6118.0|       A|Unknown|      Yes|2021-03-31 23:38:...|Leave understand ...|\n",
      "|17179869192|   17179869192|17179869192|  3543850867356731|GB27GILI447824103...|      Unknown|       3296.0| Unknown|      Y|      Yes|2022-12-28 05:09:...|South memory all ...|\n",
      "|17179869194|   17179869194|17179869194|  3550767243558188|GB17YLOH568566574...|          TOP|       6523.0|       D|      Y|       No|2023-07-15 09:36:...| Talk get direction.|\n",
      "| 8589934603|    8589934603| 8589934603|  4430190123561392|GB92ISMX785349015...|          EUR|       6555.0| Unknown|      X|       No|2022-02-11 20:06:...|Opportunity impac...|\n",
      "|17179869202|   17179869202|17179869202|                 0|GB55BHIK699558487...|          ARS|       1293.0|       C|      Z|       No|2021-02-05 13:40:...|Then former addre...|\n",
      "| 8589934604|    8589934604| 8589934604|                 0|GB78TOQA276294447...|          AFN|       7408.0|       A|      X|  Unknown|2022-10-31 12:47:...|Wide indeed crime...|\n",
      "+-----------+--------------+-----------+------------------+--------------------+-------------+-------------+--------+-------+---------+--------------------+--------------------+\n",
      "only showing top 20 rows\n",
      "\n"
     ]
    }
   ],
   "source": [
    "facts_table.show()"
   ]
  },
  {
   "cell_type": "code",
   "execution_count": 30,
   "metadata": {},
   "outputs": [],
   "source": [
    "# # Saving the dataset as a parquet file\n",
    "# transaction.write.mode('overwrite').parquet(r'Dataset_in_parquet/transaction')\n",
    "# customer.write.mode('overwrite').parquet(r'Dataset_in_parquet/customer')\n",
    "# employee.write.mode('overwrite').parquet(r'Dataset_in_parquet/employee')\n",
    "# facts_table.write.mode('overwrite').parquet(r'Dataset_in_parquet/facts_table')\n",
    "\n"
   ]
  },
  {
   "cell_type": "code",
   "execution_count": 31,
   "metadata": {},
   "outputs": [],
   "source": [
    "# # Saving the dataset as a CSV file\n",
    "# transaction.repartition(3).write.mode('overwrite').option('header', 'true').csv(r'Dataset_in_parquet/Dataset_in_CSV/csv/transaction')\n",
    "# customer.repartition(3).write.mode('overwrite').option('header', 'true').csv(r'Dataset_in_parquet/Dataset_in_CSV/csv/customer')\n",
    "# employee.repartition(3).write.mode('overwrite').option('header', 'true').csv(r'Dataset_in_parquet/Dataset_in_CSV/csv/employee')\n",
    "# facts_table.repartition(3).write.mode('overwrite').option('header', 'true').csv(r'Dataset_in_parquet/Dataset_in_CSV/csv/facts_table')"
   ]
  },
  {
   "cell_type": "code",
   "execution_count": 32,
   "metadata": {},
   "outputs": [],
   "source": [
    "# Convert spark df to pandas df\n",
    "\n",
    "Transaction_table = transaction.toPandas()\n",
    "Customer_table = customer.toPandas()\n",
    "Employee_table = employee.toPandas()\n",
    "#Facts_table = facts_table.toPandas()\n"
   ]
  },
  {
   "cell_type": "code",
   "execution_count": 33,
   "metadata": {},
   "outputs": [],
   "source": [
    "# Limiting the data tobe converted by limiting the number of rows to be converted\n",
    "# Sample_facts_table = facts_table.limit(5128419)  # Adjust the number as needed\n",
    "# Sample_facts_table_pd = Sample_facts_table.toPandas()\n",
    "\n",
    "\n",
    "#  The facts table seems to be too large for my PC, i tried limiting the rows like you can see above but it didn't work so i'll instead limit the columns by breaking the facts table into 3.\n",
    "# They'll be Facts_table1, Facts_table2 and Facts_table3\n",
    "\n",
    "\n",
    "# Creating the Facts_table1 and Facts_table2\n",
    "# facts_table1 = facts_table.select('Customer_id', 'Transaction_id', 'Employee_id', 'Credit_Card_Number')\n",
    "# facts_table2 = facts_table.select('Random_Number', 'Category', 'Group', 'Is_Active')\n",
    "# facts_table3 = facts_table.select('IBAN', 'Currency_Code', 'Last_Updated', 'Description')\n",
    "\n",
    "# # now that the facts table have been broken down, lets now re-run the conversion of pyspark to pandas for the now two facts table\n",
    "# Facts_table1 = facts_table1.toPandas()\n",
    "# Facts_table2 = facts_table2.toPandas()\n",
    "# Facts_table3 = facts_table3.toPandas()\n",
    "\n",
    "\n",
    "# breaking it down to 3 facts tables didn't still work. in the end what worked is reducing the columns to around 2 million from the almost 9 million it was in the original dataset.\n",
    "sample_facts_table = facts_table.limit(2128419)  # Adjust the number as needed\n",
    "Sample_facts_table = sample_facts_table.toPandas()\n"
   ]
  },
  {
   "cell_type": "code",
   "execution_count": 34,
   "metadata": {},
   "outputs": [
    {
     "name": "stdout",
     "output_type": "stream",
     "text": [
      "Customer_id           2128419\n",
      "Transaction_id        2128419\n",
      "Employee_id           2128419\n",
      "Credit_Card_Number    2128419\n",
      "IBAN                  2128419\n",
      "Currency_Code         2128419\n",
      "Random_Number         2128419\n",
      "Category              2128419\n",
      "Group                 2128419\n",
      "Is_Active             2128419\n",
      "Last_Updated          2128419\n",
      "Description           2128419\n",
      "dtype: int64\n",
      "Index(['Customer_id', 'Transaction_id', 'Employee_id', 'Credit_Card_Number',\n",
      "       'IBAN', 'Currency_Code', 'Random_Number', 'Category', 'Group',\n",
      "       'Is_Active', 'Last_Updated', 'Description'],\n",
      "      dtype='object')\n"
     ]
    }
   ],
   "source": [
    "print(Sample_facts_table.count())\n",
    "print(Sample_facts_table.columns)\n"
   ]
  },
  {
   "cell_type": "markdown",
   "metadata": {},
   "source": [
    "### Loading Layer"
   ]
  },
  {
   "cell_type": "code",
   "execution_count": 36,
   "metadata": {},
   "outputs": [
    {
     "name": "stdout",
     "output_type": "stream",
     "text": [
      "Database, table and data loaded successfully\n"
     ]
    }
   ],
   "source": [
    "# Load environment variables from the .env file\n",
    "load_dotenv()\n",
    "\n",
    "db_params = {\n",
    "    'username' : os.getenv('DB_USER'),\n",
    "    'password' : os.getenv('PASSWORD'),\n",
    "    'host' : os.getenv('HOST'),\n",
    "    'port': int(os.getenv('PORT')),  # Ensure PORT is an integer\n",
    "    'database' : os.getenv('DATABASE')\n",
    "}\n",
    "\n",
    "# define the database connection url\n",
    "db_url = f\"postgresql://{db_params['username']}:{db_params['password']}@{db_params['host']}:{db_params['port']}/{db_params['database']}\"\n",
    "\n",
    "\n",
    "# create the database engine with the db url specified\n",
    "engine = create_engine(db_url)\n",
    "\n",
    "# connect to postgreSQL server\n",
    "with engine.connect() as connection:\n",
    "    # Create table and load the data\n",
    "    Transaction_table.to_sql('Transaction_table', connection, index = False, if_exists = 'replace')\n",
    "    Customer_table.to_sql('Customer_table', connection, index = False, if_exists = 'replace')\n",
    "    Employee_table.to_sql('Employee_table', connection, index = False, if_exists = 'replace')\n",
    "    Sample_facts_table.to_sql('Sample_facts_table', connection, index = False, if_exists = 'replace')\n",
    "\n",
    "print('Database, table and data loaded successfully')\n"
   ]
  }
 ],
 "metadata": {
  "kernelspec": {
   "display_name": ".myenv_Nuga",
   "language": "python",
   "name": "python3"
  },
  "language_info": {
   "codemirror_mode": {
    "name": "ipython",
    "version": 3
   },
   "file_extension": ".py",
   "mimetype": "text/x-python",
   "name": "python",
   "nbconvert_exporter": "python",
   "pygments_lexer": "ipython3",
   "version": "3.11.4"
  }
 },
 "nbformat": 4,
 "nbformat_minor": 2
}
